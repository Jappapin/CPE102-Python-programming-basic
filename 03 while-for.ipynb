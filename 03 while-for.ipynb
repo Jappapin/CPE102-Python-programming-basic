{
 "cells": [
  {
   "cell_type": "code",
   "execution_count": 1,
   "metadata": {},
   "outputs": [
    {
     "name": "stdout",
     "output_type": "stream",
     "text": [
      "Please enter human years(stop to finish): 666666666666\n",
      "2666666666677\n",
      "Please enter human years(stop to finish): stop\n"
     ]
    }
   ],
   "source": [
    "human_years=input('Please enter human years(stop to finish): ')\n",
    "while human_years != 'stop':\n",
    "    if int(human_years)>2:\n",
    "        dog_years=((int(human_years)-2)*4)+21\n",
    "    else:\n",
    "        dog_years=int(human_years)*10.5\n",
    "    print(dog_years)\n",
    "    human_years=input('Please enter human years(stop to finish): ')"
   ]
  },
  {
   "cell_type": "code",
   "execution_count": 2,
   "metadata": {},
   "outputs": [
    {
     "name": "stdout",
     "output_type": "stream",
     "text": [
      "Please enter human years(enter to finish): \n"
     ]
    }
   ],
   "source": [
    "human_years=input('Please enter human years(enter to finish): ')\n",
    "while human_years != '':\n",
    "    if int(human_years)>2:\n",
    "        dog_years=((int(human_years)-2)*4)+21\n",
    "    else:\n",
    "        dog_years=int(human_years)*10.5\n",
    "    print(dog_years)\n",
    "    human_years=input('Please enter human years(enter to finish): ')"
   ]
  },
  {
   "cell_type": "code",
   "execution_count": null,
   "metadata": {},
   "outputs": [
    {
     "name": "stdout",
     "output_type": "stream",
     "text": [
      "The number of dogs :3\n",
      "Human years:5\n",
      "33.0\n"
     ]
    }
   ],
   "source": [
    "num_dogs=input('The number of dogs :')\n",
    "for i in range(int(num_dogs)):\n",
    "    human_years=input('Human years:')\n",
    "    if int(human_years)<=2:\n",
    "        dog_years=int(human_years)*10.5\n",
    "    else:\n",
    "        dog_years=(2*10.5)+((int(human_years)-2)*4)\n",
    "    print(dog_years)"
   ]
  },
  {
   "cell_type": "code",
   "execution_count": null,
   "metadata": {},
   "outputs": [],
   "source": [
    "human_years=input('Human years:')\n",
    "while int(human_years)>=0:\n",
    "    if int(human_years)<=2:\n",
    "        dog_years=int(human_years)*10.5\n",
    "    else:\n",
    "        dog_years=(2*10.5)+((int(human_years)-2)*4)\n",
    "    print(dog_years)\n",
    "    human_years=input('Human years:')\n",
    "else:\n",
    "    print(\"what!!? Please enter POSITIVE human years\")\n",
    "    human_years=input('Human years:')"
   ]
  },
  {
   "cell_type": "code",
   "execution_count": 1,
   "metadata": {},
   "outputs": [
    {
     "name": "stdout",
     "output_type": "stream",
     "text": [
      "Please enter the name : stp\n",
      "How old are you? : 5\n",
      "Hi! stp 5\n",
      "Please enter the name : stop\n"
     ]
    }
   ],
   "source": [
    "while True:\n",
    "    name = input(\"Please enter the name : \")\n",
    "    if name=='stop':\n",
    "        break #ถ้าเงื่อนไขเป็นจริงจะหลุดออกจากลูป\n",
    "    age=input(\"How old are you? : \")\n",
    "    print('Hi!',name,age)"
   ]
  },
  {
   "cell_type": "code",
   "execution_count": 18,
   "metadata": {},
   "outputs": [
    {
     "name": "stdout",
     "output_type": "stream",
     "text": [
      "current variable value : 9\n",
      "current variable value : 8\n",
      "current variable value : 7\n",
      "current variable value : 6\n",
      "current variable value : 4\n",
      "current variable value : 3\n",
      "current variable value : 2\n",
      "current variable value : 1\n",
      "current variable value : 0\n",
      "finish!!\n"
     ]
    }
   ],
   "source": [
    "var=10\n",
    "while var>0:\n",
    "    var=var-1\n",
    "    if var==5:\n",
    "        continue #ถ้าค่าของ var=5 ให้กลับเชคเงื่อนไข while\n",
    "    print('current variable value :',var)\n",
    "print(\"finish!!\")"
   ]
  },
  {
   "cell_type": "code",
   "execution_count": 12,
   "metadata": {},
   "outputs": [
    {
     "name": "stdout",
     "output_type": "stream",
     "text": [
      "current variable value : 1\n",
      "current variable value : 2\n",
      "current variable value : 3\n",
      "current variable value : 4\n",
      "current variable value : 6\n",
      "current variable value : 7\n",
      "current variable value : 8\n",
      "current variable value : 9\n",
      "current variable value : 10\n",
      "finish!!\n"
     ]
    }
   ],
   "source": [
    "variables=[0,1,2,3,4,5,6,7,8,9]\n",
    "for var in variables:\n",
    "    var=var+1\n",
    "    if var ==5:\n",
    "        continue\n",
    "    print('current variable value :',var)\n",
    "print(\"finish!!\")"
   ]
  },
  {
   "cell_type": "code",
   "execution_count": 17,
   "metadata": {},
   "outputs": [
    {
     "name": "stdout",
     "output_type": "stream",
     "text": [
      "current letter : P\n",
      "current letter : y\n",
      "current letter : t\n",
      "current letter : o\n",
      "current letter : n\n"
     ]
    }
   ],
   "source": [
    "for letter in \"Python\":\n",
    "    if letter == \"h\":\n",
    "        continue\n",
    "    print(\"current letter :\",letter)"
   ]
  },
  {
   "cell_type": "code",
   "execution_count": 13,
   "metadata": {},
   "outputs": [
    {
     "name": "stdout",
     "output_type": "stream",
     "text": [
      "Number :100\n",
      "5050\n"
     ]
    }
   ],
   "source": [
    "n=input(\"Number :\")\n",
    "n=int(n)\n",
    "x=1\n",
    "summ=0\n",
    "while x <=n:\n",
    "    summ=x+summ\n",
    "    x=x+1\n",
    "print(summ)"
   ]
  },
  {
   "cell_type": "code",
   "execution_count": 14,
   "metadata": {},
   "outputs": [
    {
     "name": "stdout",
     "output_type": "stream",
     "text": [
      "Number :100\n",
      "5050\n"
     ]
    }
   ],
   "source": [
    "n=input(\"Number :\")\n",
    "n=int(n)\n",
    "x=1\n",
    "summ=0\n",
    "for i in range (1,n+1):\n",
    "    summ=x+summ\n",
    "    x=x+1\n",
    "print(summ)"
   ]
  },
  {
   "cell_type": "code",
   "execution_count": 4,
   "metadata": {},
   "outputs": [
    {
     "data": {
      "text/plain": [
       "True"
      ]
     },
     "execution_count": 4,
     "metadata": {},
     "output_type": "execute_result"
    }
   ],
   "source": [
    "\"a\"==\"a\""
   ]
  },
  {
   "cell_type": "code",
   "execution_count": null,
   "metadata": {},
   "outputs": [],
   "source": []
  }
 ],
 "metadata": {
  "kernelspec": {
   "display_name": "Python 3 (ipykernel)",
   "language": "python",
   "name": "python3"
  },
  "language_info": {
   "codemirror_mode": {
    "name": "ipython",
    "version": 3
   },
   "file_extension": ".py",
   "mimetype": "text/x-python",
   "name": "python",
   "nbconvert_exporter": "python",
   "pygments_lexer": "ipython3",
   "version": "3.8.0"
  }
 },
 "nbformat": 4,
 "nbformat_minor": 2
}
