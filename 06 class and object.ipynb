{
 "cells": [
  {
   "cell_type": "code",
   "execution_count": 4,
   "metadata": {},
   "outputs": [
    {
     "name": "stdout",
     "output_type": "stream",
     "text": [
      "Jap\n",
      "Hello, my name is Jap\n"
     ]
    }
   ],
   "source": [
    "class User:\n",
    "    name=\"\"\n",
    "    def __init__(self,name):\n",
    "        self.name=name\n",
    "    def sayHello(self):\n",
    "        print(\"Hello, my name is \"+ self.name)\n",
    "Papin=User('Jap')\n",
    "print(Papin.name)\n",
    "Papin.sayHello()"
   ]
  },
  {
   "cell_type": "code",
   "execution_count": null,
   "metadata": {},
   "outputs": [],
   "source": [
    "class CoffeeMachine:\n",
    "    name=\"\"\n",
    "    beans=0\n",
    "    water=0\n",
    "    def __init__(self,name,beans,water):\n",
    "        self.name=name\n",
    "        self.beans=beans\n",
    "        self.water=water\n",
    "    def  addBean(self):\n",
    "        self.beans=self.beans+1\n",
    "    def removeBean(self):\n",
    "        self.beans=self.beans-1\n",
    "    def addWater(self):\n",
    "        self.water=self.water+1\n",
    "    def removeWater(self):\n",
    "        self.water=self.water-1\n",
    "    def printState(self):\n",
    "        print(\"Name = \"+self.name)\n",
    "        print(\"Beans = \"+str(self.beans))\n",
    "        print(\"Water = \"+str(self.water))\n",
    "pythonBean=CoffeeMachine\n",
    "\n"
   ]
  },
  {
   "cell_type": "code",
   "execution_count": 20,
   "metadata": {},
   "outputs": [
    {
     "name": "stdout",
     "output_type": "stream",
     "text": [
      "Fer is red Convertible worth $60000.00.\n",
      "Jump is blue Van worth $10000.00.\n"
     ]
    }
   ],
   "source": [
    "class Vehicle:\n",
    "    name=\"\"\n",
    "    kind=\"car\"\n",
    "    color=\"\"\n",
    "    value=100.00\n",
    "    def description(self):\n",
    "        desc_str=\"%s is %s %s worth $%.2f.\"%(self.name,self.color,self.kind,self.value)\n",
    "        return desc_str\n",
    "car1=Vehicle()\n",
    "car1.name=\"Fer\"\n",
    "car1.kind=\"Convertible\"\n",
    "car1.color=\"red\"\n",
    "car1.value=60000\n",
    "print(car1.description())\n",
    "car2=Vehicle()\n",
    "car2.name=\"Jump\"\n",
    "car2.kind=\"Van\"\n",
    "car2.color=\"blue\"\n",
    "car2.value=10000\n",
    "print(car2.description())\n",
    "    "
   ]
  },
  {
   "cell_type": "code",
   "execution_count": 25,
   "metadata": {},
   "outputs": [
    {
     "name": "stdout",
     "output_type": "stream",
     "text": [
      "Fer is red Convertible worth $60000.00.\n",
      "Jump is blue Van worth $10000.00.\n"
     ]
    }
   ],
   "source": [
    "class Vehicle:\n",
    "    name=\"\"\n",
    "    kind=\"car\"\n",
    "    color=\"\"\n",
    "    value=100.00\n",
    "    def __init__(self,name,color,kind,value):\n",
    "        self.name=name\n",
    "        self.kind=kind\n",
    "        self.color=color\n",
    "        self.value=value\n",
    "    def description(self):\n",
    "        desc_str=\"%s is %s %s worth $%.2f.\"%(self.name,self.color,self.kind,self.value)\n",
    "        return desc_str\n",
    "car1=Vehicle(\"Fer\",\"red\",\"Convertible\",60000)\n",
    "car2=Vehicle(\"Jump\",\"blue\",\"Van\",10000)\n",
    "print(car1.description())\n",
    "print(car2.description())\n"
   ]
  },
  {
   "cell_type": "code",
   "execution_count": null,
   "metadata": {},
   "outputs": [],
   "source": []
  }
 ],
 "metadata": {
  "kernelspec": {
   "display_name": "Python 3 (ipykernel)",
   "language": "python",
   "name": "python3"
  },
  "language_info": {
   "codemirror_mode": {
    "name": "ipython",
    "version": 3
   },
   "file_extension": ".py",
   "mimetype": "text/x-python",
   "name": "python",
   "nbconvert_exporter": "python",
   "pygments_lexer": "ipython3",
   "version": "3.8.0"
  }
 },
 "nbformat": 4,
 "nbformat_minor": 2
}
