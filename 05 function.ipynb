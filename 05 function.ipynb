{
 "cells": [
  {
   "cell_type": "code",
   "execution_count": 1,
   "metadata": {},
   "outputs": [],
   "source": [
    "def greet(name):\n",
    "    print('hello,'+ name +'. Good morning!')"
   ]
  },
  {
   "cell_type": "code",
   "execution_count": 2,
   "metadata": {},
   "outputs": [],
   "source": [
    "def top():\n",
    "    print(\"  ______\")\n",
    "    print(\" /          \\\\\")\n",
    "    print(\"/            \\\\\")\n",
    "def bottom():\n",
    "    print(\"\\             /\")\n",
    "    print(\" \\______/\")\n",
    "def line():\n",
    "    print(\"+--------+\")"
   ]
  },
  {
   "cell_type": "code",
   "execution_count": 3,
   "metadata": {},
   "outputs": [
    {
     "name": "stdout",
     "output_type": "stream",
     "text": [
      "\\             /\n",
      " \\______/\n",
      "+--------+\n"
     ]
    }
   ],
   "source": [
    "def cup():\n",
    "    bottom()\n",
    "    line()\n",
    "cup()"
   ]
  },
  {
   "cell_type": "code",
   "execution_count": 4,
   "metadata": {},
   "outputs": [
    {
     "name": "stdout",
     "output_type": "stream",
     "text": [
      "  ______\n",
      " /          \\\n",
      "/            \\\n",
      "+--------+\n"
     ]
    }
   ],
   "source": [
    "def hat():\n",
    "    top()\n",
    "    line()\n",
    "hat()"
   ]
  },
  {
   "cell_type": "code",
   "execution_count": 5,
   "metadata": {},
   "outputs": [
    {
     "name": "stdout",
     "output_type": "stream",
     "text": [
      "  ______\n",
      " /          \\\n",
      "/            \\\n",
      "|   STOP  |\n",
      "\\             /\n",
      " \\______/\n"
     ]
    }
   ],
   "source": [
    "def stop():\n",
    "    top()\n",
    "    print(\"|   STOP  |\")\n",
    "    bottom()\n",
    "stop()"
   ]
  },
  {
   "cell_type": "code",
   "execution_count": 6,
   "metadata": {},
   "outputs": [],
   "source": [
    " def greet(name=\"everyone\"):\n",
    "    print('Hello,'+ name +'. Good morning! Have a nice day!')"
   ]
  },
  {
   "cell_type": "code",
   "execution_count": 7,
   "metadata": {},
   "outputs": [
    {
     "name": "stdout",
     "output_type": "stream",
     "text": [
      "Hello,everyone. Good morning! Have a nice day!\n"
     ]
    }
   ],
   "source": [
    "greet()"
   ]
  },
  {
   "cell_type": "code",
   "execution_count": 8,
   "metadata": {},
   "outputs": [
    {
     "name": "stdout",
     "output_type": "stream",
     "text": [
      "Hello,Jap. Good morning! Have a nice day!\n"
     ]
    }
   ],
   "source": [
    "greet(\"Jap\")"
   ]
  },
  {
   "cell_type": "code",
   "execution_count": 9,
   "metadata": {},
   "outputs": [],
   "source": [
    "def Greet(name,message=\"Good morning!\"):\n",
    "    print(\"Hello, \"+ name + \". \" + message)"
   ]
  },
  {
   "cell_type": "code",
   "execution_count": 10,
   "metadata": {},
   "outputs": [
    {
     "name": "stdout",
     "output_type": "stream",
     "text": [
      "Hello, Jap. Good morning!\n"
     ]
    }
   ],
   "source": [
    "Greet(\"Jap\")"
   ]
  },
  {
   "cell_type": "code",
   "execution_count": 11,
   "metadata": {},
   "outputs": [
    {
     "name": "stdout",
     "output_type": "stream",
     "text": [
      "Hello, Jap. You're the best\n"
     ]
    }
   ],
   "source": [
    "Greet(\"Jap\",message=\"You're the best\")"
   ]
  },
  {
   "cell_type": "code",
   "execution_count": 12,
   "metadata": {},
   "outputs": [
    {
     "name": "stdout",
     "output_type": "stream",
     "text": [
      "Hello, Jap. You're the best\n"
     ]
    }
   ],
   "source": [
    "Greet(name=\"Jap\",message=\"You're the best\")"
   ]
  },
  {
   "cell_type": "code",
   "execution_count": 13,
   "metadata": {},
   "outputs": [
    {
     "name": "stdout",
     "output_type": "stream",
     "text": [
      "Hello, Jap. You're the best\n"
     ]
    }
   ],
   "source": [
    "Greet(message=\"You're the best\",name=\"Jap\") #ใส่คีย์เวิร์ดแล้วสลับตำแหน่ง agrumentได้เลยย"
   ]
  },
  {
   "cell_type": "code",
   "execution_count": 14,
   "metadata": {},
   "outputs": [
    {
     "ename": "SyntaxError",
     "evalue": "positional argument follows keyword argument (Temp/ipykernel_13804/992204519.py, line 1)",
     "output_type": "error",
     "traceback": [
      "\u001b[1;36m  File \u001b[1;32m\"C:\\Users\\USER\\AppData\\Local\\Temp/ipykernel_13804/992204519.py\"\u001b[1;36m, line \u001b[1;32m1\u001b[0m\n\u001b[1;33m    Greet(name=\"Jap\",\"You're the best\") #เริ่มใส่คีย์เวิร์ดแล้วต้องใส่ตลอด เพราะโปรแกรมจะรันไม่ได้\u001b[0m\n\u001b[1;37m                     ^\u001b[0m\n\u001b[1;31mSyntaxError\u001b[0m\u001b[1;31m:\u001b[0m positional argument follows keyword argument\n"
     ]
    }
   ],
   "source": [
    "Greet(name=\"Jap\",\"You're the best\") #เริ่มใส่คีย์เวิร์ดแล้วต้องใส่ตลอด เพราะโปรแกรมจะรันไม่ได้"
   ]
  },
  {
   "cell_type": "code",
   "execution_count": 15,
   "metadata": {},
   "outputs": [
    {
     "name": "stdout",
     "output_type": "stream",
     "text": [
      "Hello, Jap.\n",
      "Hello, jap.\n",
      "Hello, Japan.\n",
      "Hello, japan.\n"
     ]
    }
   ],
   "source": [
    "def GReet(*names):\n",
    "    for name in names:\n",
    "        print(\"Hello, \"+name+\".\")\n",
    "GReet(\"Jap\",\"jap\",\"Japan\",\"japan\")"
   ]
  },
  {
   "cell_type": "code",
   "execution_count": 16,
   "metadata": {},
   "outputs": [
    {
     "name": "stdout",
     "output_type": "stream",
     "text": [
      "10\n"
     ]
    }
   ],
   "source": [
    "double=lambda x:x*2\n",
    "print(double(5))"
   ]
  },
  {
   "cell_type": "code",
   "execution_count": 17,
   "metadata": {},
   "outputs": [
    {
     "name": "stdout",
     "output_type": "stream",
     "text": [
      "[4, 6, 8, 12]\n"
     ]
    }
   ],
   "source": [
    "my_list=[1,5,4,6,8,11,3,12]\n",
    "new_list=list(filter(lambda x:(x%2==0),my_list))\n",
    "print(new_list)"
   ]
  },
  {
   "cell_type": "code",
   "execution_count": 18,
   "metadata": {},
   "outputs": [
    {
     "name": "stdout",
     "output_type": "stream",
     "text": [
      "Enter 1st length:5\n",
      "Enter 2nd length:5\n",
      "Enter 3rd length:5\n",
      "These 3 lengths can form a triangle.\n"
     ]
    }
   ],
   "source": [
    "def Triangle(a,b,c):\n",
    "    result=\"\"\n",
    "    if a+b>c and b+c>a and a+c>b:\n",
    "        result=\"These 3 lengths can form a triangle.\"\n",
    "    else:\n",
    "        result=\"These 3 lengths CAN'T form a triangle.\"\n",
    "    return print(result)\n",
    "def main():\n",
    "    a=int(input(\"Enter 1st length:\"))\n",
    "    b=int(input(\"Enter 2nd length:\"))\n",
    "    c=int(input(\"Enter 3rd length:\"))\n",
    "    if a<0 or b<0 or c<0:\n",
    "        print(\"Some of the lengths are NEGATIVE.Please enter POSITIVE lengths\")\n",
    "        a=int(input(\"Enter 1st length:\"))\n",
    "        b=int(input(\"Enter 2nd length:\"))\n",
    "        c=int(input(\"Enter 3rd length:\"))\n",
    "    return Triangle(a,b,c)\n",
    "main()"
   ]
  },
  {
   "cell_type": "code",
   "execution_count": 19,
   "metadata": {},
   "outputs": [
    {
     "name": "stdout",
     "output_type": "stream",
     "text": [
      "Please enter the number n for n factorial calculating :4\n"
     ]
    },
    {
     "data": {
      "text/plain": [
       "24"
      ]
     },
     "execution_count": 19,
     "metadata": {},
     "output_type": "execute_result"
    }
   ],
   "source": [
    "def factorial(number):\n",
    "    result_of_calculating=1\n",
    "    for i in range(int(number),0,-1):\n",
    "        result_of_calculating=result_of_calculating*i\n",
    "    return result_of_calculating\n",
    "def main():\n",
    "    Factorial=input(\"Please enter the number n for n factorial calculating :\")\n",
    "    if int(Factorial)<0:\n",
    "        Factorial=input(\"Please enter the POSITIVE number n for n factorial calculating :\")\n",
    "    return factorial(int(Factorial))\n",
    "main()"
   ]
  },
  {
   "cell_type": "code",
   "execution_count": 21,
   "metadata": {},
   "outputs": [
    {
     "name": "stdout",
     "output_type": "stream",
     "text": [
      "Please enter any 10 numbers : 1\n",
      "Please enter any 10 numbers : 2\n",
      "Please enter any 10 numbers : 1\n",
      "Please enter any 10 numbers : 2\n",
      "Please enter any 10 numbers : 1\n",
      "Please enter any 10 numbers : 2\n",
      "Please enter any 10 numbers : 1\n",
      "Please enter any 10 numbers : 2\n",
      "Please enter any 10 numbers : 1\n",
      "Please enter any 10 numbers : 2\n"
     ]
    },
    {
     "data": {
      "text/plain": [
       "5"
      ]
     },
     "execution_count": 21,
     "metadata": {},
     "output_type": "execute_result"
    }
   ],
   "source": [
    "def summation(List_):\n",
    "    positive_odd_numbers=0\n",
    "    for number in List_:\n",
    "        if int(number)>0and int(number)%2!=0:\n",
    "            positive_odd_numbers=positive_odd_numbers+int(number)\n",
    "    return positive_odd_numbers\n",
    "def main():\n",
    "    List_of_numbers=[]\n",
    "    while len(List_of_numbers)!=10:\n",
    "        number=input(\"Please enter any 10 numbers : \")\n",
    "        int_number=int(number)\n",
    "        List_of_numbers.append(int_number)\n",
    "    return summation(List_of_numbers)\n",
    "main()"
   ]
  },
  {
   "cell_type": "code",
   "execution_count": 23,
   "metadata": {},
   "outputs": [
    {
     "name": "stdout",
     "output_type": "stream",
     "text": [
      "Please enter any number (press enter to stop) :784\n",
      "784\n",
      "Please enter any number (press enter to stop) :\n"
     ]
    }
   ],
   "source": [
    "def PutComma(number):\n",
    "    if len(str(number))<4:\n",
    "        return print(number)\n",
    "    else:\n",
    "        string_number=str(number)\n",
    "        List_of_numbers=list(string_number)\n",
    "        if number>=0:\n",
    "            for i in range(len(List_of_numbers)-3,0,-3):\n",
    "                List_of_numbers[i:i]=\",\"\n",
    "        else:\n",
    "            for i in range(len(List_of_numbers)-3,1,-3):\n",
    "                List_of_numbers[i:i]=\",\"\n",
    "        result=\"\"\n",
    "        for number in List_of_numbers:\n",
    "            result=result+number\n",
    "        return print(result)\n",
    "def main():\n",
    "    integer=input(\"Please enter any number (press enter to stop) :\")\n",
    "    while integer!=\"\":\n",
    "        Comma_int=PutComma(int(integer))\n",
    "        integer=input(\"Please enter any number (press enter to stop) :\")\n",
    "    return Comma_int\n",
    "main()"
   ]
  },
  {
   "cell_type": "code",
   "execution_count": null,
   "metadata": {},
   "outputs": [],
   "source": []
  }
 ],
 "metadata": {
  "kernelspec": {
   "display_name": "Python 3 (ipykernel)",
   "language": "python",
   "name": "python3"
  },
  "language_info": {
   "codemirror_mode": {
    "name": "ipython",
    "version": 3
   },
   "file_extension": ".py",
   "mimetype": "text/x-python",
   "name": "python",
   "nbconvert_exporter": "python",
   "pygments_lexer": "ipython3",
   "version": "3.8.0"
  }
 },
 "nbformat": 4,
 "nbformat_minor": 2
}
