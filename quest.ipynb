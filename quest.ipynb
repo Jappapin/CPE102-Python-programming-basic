{
 "cells": [
  {
   "cell_type": "code",
   "execution_count": 2,
   "metadata": {},
   "outputs": [
    {
     "name": "stdout",
     "output_type": "stream",
     "text": [
      "February\n",
      "28/29days\n"
     ]
    }
   ],
   "source": [
    "Dic={'January':'31days','February':'28/29days','March':'31days','April':'30days','May':'31days','June':'30days','July':'31days','August':'31days','September':'30days','October':'31days','November':'30days','December':'31days'}\n",
    "month=input()\n",
    "print(Dic[month])"
   ]
  },
  {
   "cell_type": "code",
   "execution_count": null,
   "metadata": {},
   "outputs": [],
   "source": [
    "def Cal_Upper_Lower(string):\n",
    "    number_of_uppercase_letter=0\n",
    "    number_of_lowercase_letter=0\n",
    "    list_of_uppercase_letter=['A','B','C','D','E','F','G','H','I','J','K','L','M','N','O','P','Q','R','S','T','U','V','W','X','Y','Z']\n",
    "    list_of_lowercase_letter=['a','b','c','d','e','f','g','h','i','j','k','l','m','n','o','p','q','r','s','t','u','v','w','x','y','z']\n",
    "    for letter in string:\n",
    "        if letter in list_of_uppercase_letter:\n",
    "            number_of_uppercase_letter=number_of_uppercase_letter+1\n",
    "        elif letter in list_of_lowercase_letter:\n",
    "            number_of_lowercase_letter=number_of_lowercase_letter+1\n",
    "    print(\"number of uppercase letter : \",number_of_uppercase_letter)\n",
    "    print(\"number of lowercase letter : \",number_of_lowercase_letter)\n",
    "def main():\n",
    "    string=input('Enter your string : ')\n",
    "    Cal_Upper_Lower(string)\n",
    "main()"
   ]
  },
  {
   "cell_type": "code",
   "execution_count": 8,
   "metadata": {},
   "outputs": [
    {
     "name": "stdout",
     "output_type": "stream",
     "text": [
      "A sdf\n",
      "fds A\n"
     ]
    }
   ],
   "source": [
    "def reverse(string):\n",
    "    liststring=list(string)\n",
    "    liststring.reverse()\n",
    "    result=\"\"\n",
    "    for stringg in liststring:\n",
    "        result=result+stringg\n",
    "    print(result)\n",
    "def main():\n",
    "    string=input()\n",
    "    reverse(string)\n",
    "main()"
   ]
  },
  {
   "cell_type": "code",
   "execution_count": 17,
   "metadata": {},
   "outputs": [
    {
     "name": "stdout",
     "output_type": "stream",
     "text": [
      "okep\n",
      "peko\n"
     ]
    }
   ],
   "source": [
    "def reverse_(string):\n",
    "    print(string[::-1])\n",
    "reverse_(input())"
   ]
  },
  {
   "cell_type": "code",
   "execution_count": 1,
   "metadata": {},
   "outputs": [
    {
     "name": "stdout",
     "output_type": "stream",
     "text": [
      "3,4\n"
     ]
    }
   ],
   "source": [
    "class findpair:\n",
    "    def __init__(self,numbers,target):\n",
    "        self.numbers=numbers\n",
    "        self.target=target\n",
    "    def pair(self):\n",
    "        for i in range(len(self.numbers)-1):\n",
    "            if self.numbers[i]+self.numbers[i+1]==self.target:\n",
    "                print(\"{},{}\".format(i+1,i+2))\n",
    "a=findpair([10,20,10,40,50,60,70],50)\n",
    "a.pair()"
   ]
  },
  {
   "cell_type": "code",
   "execution_count": 4,
   "metadata": {},
   "outputs": [
    {
     "data": {
      "text/plain": [
       "-336"
      ]
     },
     "execution_count": 4,
     "metadata": {},
     "output_type": "execute_result"
    }
   ],
   "source": [
    "def multiply(list_):\n",
    "    if type(list_) != list:\n",
    "        print(\"Please insert List\")\n",
    "    result = 1\n",
    "    for number in list_:\n",
    "        result = result*number\n",
    "    return result\n",
    "multiply([8, 2, 3, -1, 7])"
   ]
  },
  {
   "cell_type": "code",
   "execution_count": 20,
   "metadata": {},
   "outputs": [
    {
     "data": {
      "text/plain": [
       "55"
      ]
     },
     "execution_count": 20,
     "metadata": {},
     "output_type": "execute_result"
    }
   ],
   "source": [
    "def Mostof2(a1,a2):\n",
    "    if a1>a2:\n",
    "        return a1\n",
    "    else:\n",
    "        return a2\n",
    "def Mostof3(a1,a2,a3):\n",
    "    return Mostof2(a1, Mostof2(a2,a3))\n",
    "Mostof3(55,1,8)"
   ]
  },
  {
   "cell_type": "code",
   "execution_count": 22,
   "metadata": {},
   "outputs": [
    {
     "data": {
      "text/plain": [
       "[1, 2, 3, 5, 6, 7]"
      ]
     },
     "execution_count": 22,
     "metadata": {},
     "output_type": "execute_result"
    }
   ],
   "source": [
    "def uniquelist(list_):\n",
    "    result = []\n",
    "    for i in list_:\n",
    "        if i not in result:\n",
    "            result.append(i)\n",
    "    return result\n",
    "uniquelist([1,2,2,3,3,3,5,6,7,7,7,7])"
   ]
  },
  {
   "cell_type": "code",
   "execution_count": 28,
   "metadata": {},
   "outputs": [
    {
     "data": {
      "text/plain": [
       "(3, 4)"
      ]
     },
     "execution_count": 28,
     "metadata": {},
     "output_type": "execute_result"
    }
   ],
   "source": [
    "class py_solution:\n",
    "    def twoSum(self, nums, target):\n",
    "        lookup = {}\n",
    "        for i, num in enumerate(nums):\n",
    "            if target - num in lookup:\n",
    "                return (lookup[target - num], i )\n",
    "            lookup[num] = i\n",
    "#print(\"index1 = %d, index2 = %d\" % py_solution().twoSum((10,20,10,40,50,60,70),50))\n",
    "a = py_solution()\n",
    "a.twoSum((1,2,3,4,5,6),9)"
   ]
  },
  {
   "cell_type": "code",
   "execution_count": 31,
   "metadata": {},
   "outputs": [
    {
     "name": "stdout",
     "output_type": "stream",
     "text": [
      "ff-gtd-ccs -\n",
      "-ccs -ff-gtd\n"
     ]
    }
   ],
   "source": [
    "items=[n for n in input().split('-')]\n",
    "items.sort()\n",
    "print('-'.join(items))"
   ]
  },
  {
   "cell_type": "code",
   "execution_count": 34,
   "metadata": {},
   "outputs": [
    {
     "name": "stdout",
     "output_type": "stream",
     "text": [
      "[1]\n",
      "[1, 1]\n",
      "[1, 2, 1]\n",
      "[1, 3, 3, 1]\n",
      "[1, 4, 6, 4, 1]\n",
      "[1, 5, 10, 10, 5, 1]\n"
     ]
    }
   ],
   "source": [
    "def pascal_triangle(n):\n",
    "    trow = [1]\n",
    "    y = [0]\n",
    "    for x in range(max(n,0)):\n",
    "        print(trow)\n",
    "        trow=[l+r for l,r in zip(trow+y, y+trow)]\n",
    "pascal_triangle(6) \n"
   ]
  },
  {
   "cell_type": "code",
   "execution_count": null,
   "metadata": {},
   "outputs": [],
   "source": [
    "def isPalindrome(string):\n",
    "\tleft_pos = 0\n",
    "\tright_pos = len(string) - 1\n",
    "\t\n",
    "\twhile right_pos >= left_pos:\n",
    "\t\tif not string[left_pos] == string[right_pos]:\n",
    "\t\t\treturn False\n",
    "\t\tleft_pos += 1\n",
    "\t\tright_pos -= 1\n",
    "\treturn True\n",
    "print(isPalindrome('aza')) \n"
   ]
  },
  {
   "cell_type": "code",
   "execution_count": null,
   "metadata": {},
   "outputs": [],
   "source": [
    "def perfect_number(n):\n",
    "    sum = 0\n",
    "    for x in range(1, n):\n",
    "        if n % x == 0:\n",
    "            sum += x\n",
    "    return sum == n\n",
    "print(perfect_number(6))"
   ]
  }
 ],
 "metadata": {
  "kernelspec": {
   "display_name": "Python 3 (ipykernel)",
   "language": "python",
   "name": "python3"
  },
  "language_info": {
   "codemirror_mode": {
    "name": "ipython",
    "version": 3
   },
   "file_extension": ".py",
   "mimetype": "text/x-python",
   "name": "python",
   "nbconvert_exporter": "python",
   "pygments_lexer": "ipython3",
   "version": "3.8.0"
  }
 },
 "nbformat": 4,
 "nbformat_minor": 2
}
