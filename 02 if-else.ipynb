{
 "cells": [
  {
   "cell_type": "markdown",
   "metadata": {},
   "source": [
    "### 1. Is it a Leap Year?"
   ]
  },
  {
   "cell_type": "code",
   "execution_count": 1,
   "metadata": {},
   "outputs": [
    {
     "name": "stdout",
     "output_type": "stream",
     "text": [
      "year=6666\n",
      "not leap year\n"
     ]
    }
   ],
   "source": [
    "Y=int(input('year='))\n",
    "if Y%400==0 or Y%4==0:\n",
    "    print('leap year')\n",
    "else :\n",
    "    print('not leap year')"
   ]
  },
  {
   "cell_type": "markdown",
   "metadata": {},
   "source": [
    "### 2. Dog Years"
   ]
  },
  {
   "cell_type": "code",
   "execution_count": null,
   "metadata": {},
   "outputs": [],
   "source": [
    "A=int(input('A= '))\n",
    "if A>2:\n",
    "    Y=((A-2)*4)+21\n",
    "elif A<=2:\n",
    "    Y=A*10.5\n",
    "print(Y)"
   ]
  },
  {
   "cell_type": "markdown",
   "metadata": {},
   "source": [
    "### 3. Chinese Zodiac"
   ]
  },
  {
   "cell_type": "code",
   "execution_count": null,
   "metadata": {},
   "outputs": [],
   "source": [
    "Y = ['Monkey','Rooster','Dog','Pig','Rat','Ox','Tiger','Hare','Dragon','Snake','Horse','Sheep']\n",
    "A=input(\"A=\")\n",
    "B=int(A)%12\n",
    "print(Y[B])"
   ]
  },
  {
   "cell_type": "code",
   "execution_count": 58,
   "metadata": {},
   "outputs": [
    {
     "name": "stdout",
     "output_type": "stream",
     "text": [
      "5\n",
      "4\n",
      "5 4 0\n"
     ]
    }
   ],
   "source": [
    "x, y, z = 5, 4, 0\n",
    "if x > y:\n",
    "    print(x)\n",
    "    if y > z:\n",
    "        print(y)\n",
    "else:\n",
    "    print(z)\n",
    "print(x, y, z)"
   ]
  },
  {
   "cell_type": "code",
   "execution_count": null,
   "metadata": {},
   "outputs": [],
   "source": []
  }
 ],
 "metadata": {
  "kernelspec": {
   "display_name": "Python 3 (ipykernel)",
   "language": "python",
   "name": "python3"
  },
  "language_info": {
   "codemirror_mode": {
    "name": "ipython",
    "version": 3
   },
   "file_extension": ".py",
   "mimetype": "text/x-python",
   "name": "python",
   "nbconvert_exporter": "python",
   "pygments_lexer": "ipython3",
   "version": "3.8.0"
  }
 },
 "nbformat": 4,
 "nbformat_minor": 2
}
