{
 "cells": [
  {
   "cell_type": "code",
   "execution_count": 34,
   "metadata": {},
   "outputs": [
    {
     "data": {
      "text/plain": [
       "3.411764705882353"
      ]
     },
     "execution_count": 34,
     "metadata": {},
     "output_type": "execute_result"
    }
   ],
   "source": [
    "import csv\n",
    "f=open(\"Scores.csv\",\"rt\")\n",
    "def GPAcal(f):\n",
    "    sumG=0\n",
    "    sumW=0\n",
    "    reader=csv.reader(f)\n",
    "    for row in reader:\n",
    "        if row[2]=='A':\n",
    "            Grades=4.0\n",
    "        elif row[2]=='B+':\n",
    "            Grades=3.5\n",
    "        elif row[2]=='B':\n",
    "            Grades=3.0\n",
    "        elif row[2]=='C+':\n",
    "            Grades=2.5\n",
    "        elif row[2]=='C':\n",
    "            Grades=2.0\n",
    "        elif row[2]=='D+':\n",
    "            Grades=1.5\n",
    "        elif row[2]=='D':\n",
    "            Grades=1.0\n",
    "        W=int(row[1])\n",
    "        sumG=sumG+Grades*W\n",
    "        sumW=sumW+W\n",
    "    result=sumG/sumW\n",
    "    return result\n",
    "GPAcal(f)"
   ]
  },
  {
   "cell_type": "code",
   "execution_count": null,
   "metadata": {},
   "outputs": [],
   "source": []
  }
 ],
 "metadata": {
  "kernelspec": {
   "display_name": "Python 3 (ipykernel)",
   "language": "python",
   "name": "python3"
  },
  "language_info": {
   "codemirror_mode": {
    "name": "ipython",
    "version": 3
   },
   "file_extension": ".py",
   "mimetype": "text/x-python",
   "name": "python",
   "nbconvert_exporter": "python",
   "pygments_lexer": "ipython3",
   "version": "3.8.0"
  }
 },
 "nbformat": 4,
 "nbformat_minor": 2
}
