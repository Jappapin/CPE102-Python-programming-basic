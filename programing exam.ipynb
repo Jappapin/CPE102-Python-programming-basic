{
 "cells": [
  {
   "cell_type": "code",
   "execution_count": 1,
   "metadata": {},
   "outputs": [
    {
     "name": "stdout",
     "output_type": "stream",
     "text": [
      "\n"
     ]
    }
   ],
   "source": [
    "try:\n",
    "    list_of_uppercase_letter = ['A','B','C','D','E','F','G','H','I','J','K','L','M','N','O','P','Q','R','S','T','U','V','W','X','Y','Z']\n",
    "    list_of_lowercase_letter = ['a','b','c','d','e','f','g','h','i','j','k','l','m','n','o','p','q','r','s','t','u','v','w','x','y','z']\n",
    "    list_of_number = ['0','1','2','3','4','5','6','7','8','9']\n",
    "    \n",
    "    def Count(password): #นับจำนวนของ อักษรพิมพ์เล็ก อักษรพิมพ์ใหญ่\n",
    "        Length_password = len(password)\n",
    "        Upper_pass = 0\n",
    "        Lower_pass = 0\n",
    "        Num_pass = 0\n",
    "        for i in password:\n",
    "            if i in list_of_uppercase_letter:\n",
    "                Upper_pass += 1\n",
    "            elif i in list_of_lowercase_letter:\n",
    "                Lower_pass += 1\n",
    "            elif i in list_of_number:\n",
    "                Num_pass += 1\n",
    "        return Upper_pass,Lower_pass,Num_pass  \n",
    "    \n",
    "    def Minus_score(password):\n",
    "        Only_letter_pt = 0\n",
    "        Only_num_pt = 0\n",
    "        Only_num = \"\"\n",
    "        Only_letter =\"\"\n",
    "        result = Count(password)\n",
    "        for i in password:\n",
    "            if i in list_of_number:\n",
    "                Only_num = Only_num + i\n",
    "            if i in list_of_uppercase_letter or i in list_of_lowercase_letter:\n",
    "                Only_letter = Only_letter + i\n",
    "        if password == Only_letter:\n",
    "            Only_letter_pt = -(result[0] + result[1])\n",
    "        if password == Only_num: \n",
    "            Only_num_pt = -(result[2])\n",
    "        return Only_letter_pt,Only_num_pt\n",
    "    \n",
    "    def Level_password(point): #รับคะแนน ให้ผลเป็นระดับความแข็งแรงของรหัสผ่าน\n",
    "        Level = [\"very strong\",\"strong\",\"good\",\"weak\",\"very weak\"]\n",
    "        if point > 100:\n",
    "            Level_pass = Level[0] #ถ้าได้คะแนนเกิน 100 จะได้ระดับเดียวกับที่ได้คะแนน 81-100        \n",
    "        elif 100 >= point >= 81 :\n",
    "            Level_pass = Level[0]\n",
    "        elif 80 >= point >= 61 :\n",
    "            Level_pass = Level[1]\n",
    "        elif 60 >= point >= 41 :\n",
    "            Level_pass = Level[2]\n",
    "        elif 40 >= point >= 21 :\n",
    "            Level_pass = Level[3]\n",
    "        elif 21 >= point >= 0 :\n",
    "            Level_pass = Level[4]\n",
    "        elif point < 0 :\n",
    "            Level_pass = Level[4] #ถ้าได้คะแนนตำกว่า 0 จะได้ระดับเดียวกับที่ได้คะแนน 0-21\n",
    "        return Level_pass\n",
    "    \n",
    "    def main(password):\n",
    "        tuple1 = Count(password)\n",
    "        tuple2 = Minus_score(password)\n",
    "        point = len(password)*4 + ((len(password))-tuple1[0])*2 + (len(password)-tuple1[1])*2 + (tuple1[2]*4) + tuple2[0] + tuple2[1]\n",
    "        password_pt = Level_password(point)\n",
    "        file_score = open(\"password.txt\",\"w\")\n",
    "        file_score.write(str(password) + \"\\t\" + str(password_pt) + \"\\t\" + str(point));\n",
    "        file_score.close()\n",
    "    main(input())\n",
    "\n",
    "except:\n",
    "    print(\"Something went wrong.Please check your input and try again\")\n",
    "    main(input())"
   ]
  },
  {
   "cell_type": "code",
   "execution_count": null,
   "metadata": {},
   "outputs": [],
   "source": []
  }
 ],
 "metadata": {
  "kernelspec": {
   "display_name": "Python 3 (ipykernel)",
   "language": "python",
   "name": "python3"
  },
  "language_info": {
   "codemirror_mode": {
    "name": "ipython",
    "version": 3
   },
   "file_extension": ".py",
   "mimetype": "text/x-python",
   "name": "python",
   "nbconvert_exporter": "python",
   "pygments_lexer": "ipython3",
   "version": "3.8.0"
  }
 },
 "nbformat": 4,
 "nbformat_minor": 2
}
