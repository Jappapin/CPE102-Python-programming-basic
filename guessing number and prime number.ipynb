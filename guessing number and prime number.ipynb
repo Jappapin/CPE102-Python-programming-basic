{
 "cells": [
  {
   "cell_type": "code",
   "execution_count": null,
   "metadata": {},
   "outputs": [],
   "source": [
    "import random\n",
    "number = random.randint(0,100)\n",
    "number_player = input('Enter a guessing number: ')\n",
    "while number_player !=\"end\":\n",
    "    if int(number_player)==number:\n",
    "        print('The input number is correct!')\n",
    "        break\n",
    "    elif int(number_player)>100 or int(number_player)<0:\n",
    "        print('The input number should be between 0-100!')\n",
    "    elif int(number_player) > number:\n",
    "        print('The input number is too high!')\n",
    "    elif int(number_player) < number:\n",
    "        print('The input number is too low!')\n",
    "    number_player=input('Enter a guessing number: ')\n",
    "print('Thank you! Bye!')"
   ]
  },
  {
   "cell_type": "code",
   "execution_count": null,
   "metadata": {},
   "outputs": [],
   "source": [
    "number=input('Enter your number: ')\n",
    "number_=int(number)\n",
    "List =[]\n",
    "while number!=\"end\":\n",
    "    if number_==2:\n",
    "        print('It is a prime number')\n",
    "    else:\n",
    "        for i in range(1,number_+1):\n",
    "            if number_%i==0:\n",
    "                List.append(i)\n",
    "        if len(List)==2:\n",
    "            print('It is a prime number')\n",
    "        else:\n",
    "            print('It is NOt a prime number')\n",
    "    number=input('Enter your number: ')\n",
    "    number_=int(number)\n",
    "    List =[]"
   ]
  },
  {
   "cell_type": "code",
   "execution_count": null,
   "metadata": {},
   "outputs": [],
   "source": []
  }
 ],
 "metadata": {
  "kernelspec": {
   "display_name": "Python 3 (ipykernel)",
   "language": "python",
   "name": "python3"
  },
  "language_info": {
   "codemirror_mode": {
    "name": "ipython",
    "version": 3
   },
   "file_extension": ".py",
   "mimetype": "text/x-python",
   "name": "python",
   "nbconvert_exporter": "python",
   "pygments_lexer": "ipython3",
   "version": "3.8.0"
  }
 },
 "nbformat": 4,
 "nbformat_minor": 2
}
