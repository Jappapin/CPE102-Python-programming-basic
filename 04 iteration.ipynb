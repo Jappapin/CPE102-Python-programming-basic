{
 "cells": [
  {
   "cell_type": "markdown",
   "metadata": {},
   "source": [
    "## Average"
   ]
  },
  {
   "cell_type": "code",
   "execution_count": 50,
   "metadata": {},
   "outputs": [
    {
     "name": "stdout",
     "output_type": "stream",
     "text": [
      "Enter number (0 to finish averaging): 0\n",
      "ERROR!!\n",
      "Please enter NATURAL NUMBER! : 6\n",
      "Enter number (0 to finish averaging): 3\n",
      "Enter number (0 to finish averaging): 3\n",
      "Enter number (0 to finish averaging): 0\n",
      "4.00\n"
     ]
    }
   ],
   "source": [
    "number=input(\"Enter number (0 to finish averaging): \")\n",
    "n=0\n",
    "sum_of_numbers=0\n",
    "if int(number)==0:\n",
    "    print(\"ERROR!!\")\n",
    "    number=input(\"Please enter NATURAL NUMBER! : \")\n",
    "while int(number)!=0:\n",
    "    sum_of_numbers=sum_of_numbers+int(number)\n",
    "    number=input(\"Enter number (0 to finish averaging): \")\n",
    "    n=n+1\n",
    "else:\n",
    "    print(\"%.2f\"%(sum_of_numbers/n))"
   ]
  },
  {
   "cell_type": "markdown",
   "metadata": {},
   "source": [
    "## Discount Table"
   ]
  },
  {
   "cell_type": "code",
   "execution_count": 48,
   "metadata": {},
   "outputs": [
    {
     "name": "stdout",
     "output_type": "stream",
     "text": [
      "Original\tDiscount\tNew\n",
      "  4.95         2.97         1.98\n",
      "  9.95         5.97         3.98\n",
      " 14.95         8.97         5.98\n",
      " 19.95        11.97         7.98\n",
      " 24.95        14.97         9.98\n"
     ]
    }
   ],
   "source": [
    "original = [4.95,9.95,14.95,19.95,24.95]\n",
    "print(\"Original\\tDiscount\\tNew\")\n",
    "for original_prices in original:\n",
    "    discount_amount=0.6*original_prices\n",
    "    new_prices=original_prices-discount_amount\n",
    "    print('%6.2f'%original_prices,'%12.2f'%discount_amount,'%12.2f'%new_prices)"
   ]
  },
  {
   "cell_type": "markdown",
   "metadata": {},
   "source": [
    "## Temperature Conversion Table"
   ]
  },
  {
   "cell_type": "code",
   "execution_count": 53,
   "metadata": {},
   "outputs": [
    {
     "name": "stdout",
     "output_type": "stream",
     "text": [
      "Celsius(°C)\tFahrenheit(°F)\n",
      "0 \t\t\t 32.0\n",
      "10 \t\t\t 50.0\n",
      "20 \t\t\t 68.0\n",
      "30 \t\t\t 86.0\n",
      "40 \t\t\t 104.0\n",
      "50 \t\t\t 122.0\n",
      "60 \t\t\t 140.0\n",
      "70 \t\t\t 158.0\n",
      "80 \t\t\t 176.0\n",
      "90 \t\t\t 194.0\n",
      "100 \t\t\t 212.0\n"
     ]
    }
   ],
   "source": [
    "Celsius=[0,10,20,30,40,50,60,70,80,90,100]\n",
    "print(\"Celsius(°C)\\tFahrenheit(°F)\")\n",
    "for Celsius_degree in Celsius:\n",
    "    Fahrenheit_degree=(Celsius_degree*1.8)+32\n",
    "    print(Celsius_degree,\"\\t\\t\\t\",Fahrenheit_degree)"
   ]
  },
  {
   "cell_type": "code",
   "execution_count": 6,
   "metadata": {},
   "outputs": [
    {
     "name": "stdout",
     "output_type": "stream",
     "text": [
      "Celsius(°C)\tFahrenheit(°F)\n",
      "10 \t\t\t 50.0\n",
      "10 \t\t\t 50.0\n",
      "10 \t\t\t 50.0\n",
      "10 \t\t\t 50.0\n",
      "10 \t\t\t 50.0\n",
      "10 \t\t\t 50.0\n",
      "10 \t\t\t 50.0\n",
      "10 \t\t\t 50.0\n",
      "10 \t\t\t 50.0\n",
      "10 \t\t\t 50.0\n",
      "10 \t\t\t 50.0\n"
     ]
    }
   ],
   "source": [
    "print(\"Celsius(°C)\\tFahrenheit(°F)\")\n",
    "for i in range(0,101,10):\n",
    "    Fahrenheit_degree=(Celsius_degree*1.8)+32\n",
    "    print(Celsius_degree,\"\\t\\t\\t\",Fahrenheit_degree)"
   ]
  },
  {
   "cell_type": "code",
   "execution_count": null,
   "metadata": {},
   "outputs": [],
   "source": []
  }
 ],
 "metadata": {
  "kernelspec": {
   "display_name": "Python 3 (ipykernel)",
   "language": "python",
   "name": "python3"
  },
  "language_info": {
   "codemirror_mode": {
    "name": "ipython",
    "version": 3
   },
   "file_extension": ".py",
   "mimetype": "text/x-python",
   "name": "python",
   "nbconvert_exporter": "python",
   "pygments_lexer": "ipython3",
   "version": "3.8.0"
  }
 },
 "nbformat": 4,
 "nbformat_minor": 2
}
